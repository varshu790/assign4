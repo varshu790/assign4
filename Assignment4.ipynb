{
  "nbformat": 4,
  "nbformat_minor": 0,
  "metadata": {
    "colab": {
      "provenance": []
    },
    "kernelspec": {
      "name": "python3",
      "display_name": "Python 3"
    },
    "language_info": {
      "name": "python"
    }
  },
  "cells": [
    {
      "cell_type": "markdown",
      "source": [
        "Q1.  Create a python program to sort the given list of tuples based on integer value using a\n",
        "lambda function.\n",
        "\n",
        "[('Sachin Tendulkar', 34357), ('Ricky Ponting', 27483), ('Jack Kallis', 25534), ('Virat Kohli', 24936)]"
      ],
      "metadata": {
        "id": "SWYmS8oM1B0O"
      }
    },
    {
      "cell_type": "code",
      "execution_count": 1,
      "metadata": {
        "id": "WNz4eEfB7ty9"
      },
      "outputs": [],
      "source": [
        "crics = [('Sachin Tendulkar', 34357), ('Ricky Ponting', 27483), ('Jack Kallis', 25534), ('Virat Kohli', 24936)]"
      ]
    },
    {
      "cell_type": "code",
      "source": [
        "crics.sort(key = lambda x : x[1])"
      ],
      "metadata": {
        "id": "DFwA2zpD2_be"
      },
      "execution_count": 2,
      "outputs": []
    },
    {
      "cell_type": "code",
      "source": [
        "crics"
      ],
      "metadata": {
        "colab": {
          "base_uri": "https://localhost:8080/"
        },
        "id": "krA9kpTo3PNA",
        "outputId": "fc0b46dd-36ec-4d3a-8ef3-9e138c731389"
      },
      "execution_count": 4,
      "outputs": [
        {
          "output_type": "execute_result",
          "data": {
            "text/plain": [
              "[('Virat Kohli', 24936),\n",
              " ('Jack Kallis', 25534),\n",
              " ('Ricky Ponting', 27483),\n",
              " ('Sachin Tendulkar', 34357)]"
            ]
          },
          "metadata": {},
          "execution_count": 4
        }
      ]
    },
    {
      "cell_type": "markdown",
      "source": [
        "Q2. Write a Python Program to find the squares of all the numbers in the given list of integers using\n",
        "lambda and map functions.\n",
        "[1, 2, 3, 4, 5, 6, 7, 8, 9, 10]"
      ],
      "metadata": {
        "id": "A2u2hpc43XBC"
      }
    },
    {
      "cell_type": "code",
      "source": [
        "l = [1, 2, 3, 4, 5, 6, 7, 8, 9, 10]"
      ],
      "metadata": {
        "id": "1Dglm3af3RFE"
      },
      "execution_count": 6,
      "outputs": []
    },
    {
      "cell_type": "code",
      "source": [
        "list(map(lambda x : x**2 , l))"
      ],
      "metadata": {
        "colab": {
          "base_uri": "https://localhost:8080/"
        },
        "id": "gETYXzP331rU",
        "outputId": "5662b1ec-6e6b-4d94-8ad6-06d4cc157d54"
      },
      "execution_count": 10,
      "outputs": [
        {
          "output_type": "execute_result",
          "data": {
            "text/plain": [
              "[1, 4, 9, 16, 25, 36, 49, 64, 81, 100]"
            ]
          },
          "metadata": {},
          "execution_count": 10
        }
      ]
    },
    {
      "cell_type": "markdown",
      "source": [
        "Q3. Write a python program to convert the given list of integers into a tuple of strings. Use map and\n",
        "lambda functions\n",
        "\n",
        "Given String: [1, 2, 3, 4, 5, 6, 7, 8, 9, 10]\n",
        "\n",
        "Expected output: ('1', '2', '3', '4', '5', '6', '7', '8', '9', '10')"
      ],
      "metadata": {
        "id": "inERx0wY4s6y"
      }
    },
    {
      "cell_type": "code",
      "source": [
        "l1 = [1, 2, 3, 4, 5, 6, 7, 8, 9, 10]"
      ],
      "metadata": {
        "id": "wHkcBITA4h29"
      },
      "execution_count": 11,
      "outputs": []
    },
    {
      "cell_type": "code",
      "source": [
        "tuple(map(lambda x : str(x), l1))"
      ],
      "metadata": {
        "colab": {
          "base_uri": "https://localhost:8080/"
        },
        "id": "5CoKi7ot5Jpt",
        "outputId": "7d130b53-0a8a-4ae5-d12a-64d887e52ac0"
      },
      "execution_count": 19,
      "outputs": [
        {
          "output_type": "execute_result",
          "data": {
            "text/plain": [
              "('1', '2', '3', '4', '5', '6', '7', '8', '9', '10')"
            ]
          },
          "metadata": {},
          "execution_count": 19
        }
      ]
    },
    {
      "cell_type": "markdown",
      "source": [
        "Q4. Write a python program using reduce function to compute the product of a list containing numbers\n",
        "from 1 to 25."
      ],
      "metadata": {
        "id": "F41AZUKt7pI6"
      }
    },
    {
      "cell_type": "code",
      "source": [
        "from functools import reduce"
      ],
      "metadata": {
        "id": "7jTrjvJe5lMV"
      },
      "execution_count": 20,
      "outputs": []
    },
    {
      "cell_type": "code",
      "source": [
        "l = range(1,26)"
      ],
      "metadata": {
        "id": "klGTKPAN-J1x"
      },
      "execution_count": 27,
      "outputs": []
    },
    {
      "cell_type": "code",
      "source": [
        "reduce(lambda x, y : x*y, l)"
      ],
      "metadata": {
        "colab": {
          "base_uri": "https://localhost:8080/"
        },
        "id": "RdStnl3P8NYx",
        "outputId": "d3c9367e-231c-4fd5-d65c-efe86e941fb5"
      },
      "execution_count": 28,
      "outputs": [
        {
          "output_type": "execute_result",
          "data": {
            "text/plain": [
              "15511210043330985984000000"
            ]
          },
          "metadata": {},
          "execution_count": 28
        }
      ]
    },
    {
      "cell_type": "markdown",
      "source": [
        "Q5. Write a python program to filter the numbers in a given list that are divisible by 2 and 3 using the\n",
        "filter function.\n",
        "[2, 3, 6, 9, 27, 60, 90, 120, 55, 46]"
      ],
      "metadata": {
        "id": "PbM6g4JN7zi0"
      }
    },
    {
      "cell_type": "code",
      "source": [
        "l = [2, 3, 6, 9, 27, 60, 90, 120, 55, 46]"
      ],
      "metadata": {
        "id": "GeQiplyn71bY"
      },
      "execution_count": 30,
      "outputs": []
    },
    {
      "cell_type": "code",
      "source": [
        "list(filter(lambda x : x % 2 == 0 , l))"
      ],
      "metadata": {
        "colab": {
          "base_uri": "https://localhost:8080/"
        },
        "id": "MuYxqjp4AYA4",
        "outputId": "ea7000b4-bdcd-4295-f4e5-df660a34b7f0"
      },
      "execution_count": 32,
      "outputs": [
        {
          "output_type": "execute_result",
          "data": {
            "text/plain": [
              "[2, 6, 60, 90, 120, 46]"
            ]
          },
          "metadata": {},
          "execution_count": 32
        }
      ]
    },
    {
      "cell_type": "code",
      "source": [
        "list(filter(lambda x : x % 2 != 0, l))"
      ],
      "metadata": {
        "colab": {
          "base_uri": "https://localhost:8080/"
        },
        "id": "N6PNJ2bXApwj",
        "outputId": "28ecac03-6249-4b37-e095-68e0f23d049a"
      },
      "execution_count": 33,
      "outputs": [
        {
          "output_type": "execute_result",
          "data": {
            "text/plain": [
              "[3, 9, 27, 55]"
            ]
          },
          "metadata": {},
          "execution_count": 33
        }
      ]
    },
    {
      "cell_type": "markdown",
      "source": [
        "Q6. Write a python program to find palindromes in the given list of strings using lambda and filter\n",
        "function.\n",
        "['python', 'php', 'aba', 'radar', 'level']"
      ],
      "metadata": {
        "id": "Lqta_fbP72Nn"
      }
    },
    {
      "cell_type": "code",
      "source": [
        "texts =  ['python', 'php', 'aba', 'radar', 'level']"
      ],
      "metadata": {
        "id": "e8PzWOSkBqGV"
      },
      "execution_count": 34,
      "outputs": []
    },
    {
      "cell_type": "code",
      "source": [
        "list(filter(lambda x: (x == \"\".join(reversed(x))), texts))"
      ],
      "metadata": {
        "colab": {
          "base_uri": "https://localhost:8080/"
        },
        "id": "q_VasIpi74nD",
        "outputId": "f45d407c-2a66-44eb-b6d2-d61fcb81cc0f"
      },
      "execution_count": 35,
      "outputs": [
        {
          "output_type": "execute_result",
          "data": {
            "text/plain": [
              "['php', 'aba', 'radar', 'level']"
            ]
          },
          "metadata": {},
          "execution_count": 35
        }
      ]
    },
    {
      "cell_type": "code",
      "source": [],
      "metadata": {
        "id": "eFplENhmBuw7"
      },
      "execution_count": null,
      "outputs": []
    }
  ]
}